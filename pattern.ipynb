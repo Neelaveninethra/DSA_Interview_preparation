{
  "nbformat": 4,
  "nbformat_minor": 0,
  "metadata": {
    "colab": {
      "provenance": [],
      "authorship_tag": "ABX9TyMMx6pi23gustzqxh1DmeD3",
      "include_colab_link": true
    },
    "kernelspec": {
      "name": "python3",
      "display_name": "Python 3"
    },
    "language_info": {
      "name": "python"
    }
  },
  "cells": [
    {
      "cell_type": "markdown",
      "metadata": {
        "id": "view-in-github",
        "colab_type": "text"
      },
      "source": [
        "<a href=\"https://colab.research.google.com/github/Neelaveninethra/DSA_Interview_preparation/blob/main/pattern.ipynb\" target=\"_parent\"><img src=\"https://colab.research.google.com/assets/colab-badge.svg\" alt=\"Open In Colab\"/></a>"
      ]
    },
    {
      "cell_type": "code",
      "execution_count": null,
      "metadata": {
        "colab": {
          "base_uri": "https://localhost:8080/"
        },
        "id": "il6uw4_c9IBp",
        "outputId": "4bcdd532-fa62-4b4e-9310-a3b6540780a1"
      },
      "outputs": [
        {
          "output_type": "stream",
          "name": "stdout",
          "text": [
            "******\n",
            "******\n",
            "******\n",
            "******\n",
            "******\n"
          ]
        }
      ],
      "source": [
        "rows=5\n",
        "cols=6\n",
        "for i in range(rows):\n",
        "    for j in range(cols):\n",
        "        print(\"*\",end=\"\")\n",
        "    print()"
      ]
    },
    {
      "cell_type": "code",
      "source": [
        "r=5\n",
        "for i in range(r):\n",
        "  for j in range(i+1):\n",
        "    print(\"*\",end=\"\")\n",
        "  print()"
      ],
      "metadata": {
        "id": "bcU8fK699u_Z",
        "colab": {
          "base_uri": "https://localhost:8080/"
        },
        "outputId": "14e09a2a-3ebc-4169-a417-1d2143e14bfe"
      },
      "execution_count": 4,
      "outputs": [
        {
          "output_type": "stream",
          "name": "stdout",
          "text": [
            "*\n",
            "**\n",
            "***\n",
            "****\n",
            "*****\n"
          ]
        }
      ]
    },
    {
      "cell_type": "code",
      "source": [
        "r=5\n",
        "for i in range(r):\n",
        "  for j in range(r-i):\n",
        "    print(\"*\",end=\"\")\n",
        "  print()"
      ],
      "metadata": {
        "id": "_qXTTGmn-_vs",
        "colab": {
          "base_uri": "https://localhost:8080/"
        },
        "outputId": "ad379bd3-4bf3-4f74-9e16-b9ef2fbd0b48"
      },
      "execution_count": 20,
      "outputs": [
        {
          "output_type": "stream",
          "name": "stdout",
          "text": [
            "******\n",
            "*****\n",
            "****\n",
            "***\n",
            "**\n"
          ]
        }
      ]
    },
    {
      "cell_type": "code",
      "source": [
        "r=5\n",
        "for i in range(r):\n",
        "  for j in range(r-i):\n",
        "    print(\"*\",end=\"\")\n",
        "  print()\n",
        "for i in range(r):\n",
        "  for j in range(i+1):\n",
        "    print(\"*\",end=\"\")\n",
        "  print()"
      ],
      "metadata": {
        "colab": {
          "base_uri": "https://localhost:8080/"
        },
        "id": "E7ZlGXBjDTXU",
        "outputId": "f9a99d42-7fc2-4772-c48d-d598cb2db073"
      },
      "execution_count": 22,
      "outputs": [
        {
          "output_type": "stream",
          "name": "stdout",
          "text": [
            "*****\n",
            "****\n",
            "***\n",
            "**\n",
            "*\n",
            "*\n",
            "**\n",
            "***\n",
            "****\n",
            "*****\n"
          ]
        }
      ]
    },
    {
      "cell_type": "code",
      "source": [
        "r=5\n",
        "for i in range(r):\n",
        "  for j in range(r-i):\n",
        "    print(\" \"+\"*\",end=\"\")\n",
        "  print()\n"
      ],
      "metadata": {
        "colab": {
          "base_uri": "https://localhost:8080/"
        },
        "id": "OcC2294GF9Dn",
        "outputId": "6976fb89-7504-4ab7-bcf6-a485a99f9e88"
      },
      "execution_count": 28,
      "outputs": [
        {
          "output_type": "stream",
          "name": "stdout",
          "text": [
            " * * * * *\n",
            " * * * *\n",
            " * * *\n",
            " * *\n",
            " *\n"
          ]
        }
      ]
    },
    {
      "cell_type": "code",
      "source": [
        "r=5\n",
        "for i in range(r):\n",
        "  for j in range(i):\n",
        "    print(\" \",end=\" \")\n",
        "  for k in range(r-i):\n",
        "    print(\"*\",end=\" \")\n",
        "  print()\n"
      ],
      "metadata": {
        "colab": {
          "base_uri": "https://localhost:8080/"
        },
        "id": "0BB7pFTfGLH4",
        "outputId": "fc5da26d-f421-41c3-89d6-522b8308a088"
      },
      "execution_count": 36,
      "outputs": [
        {
          "metadata": {
            "tags": null
          },
          "name": "stdout",
          "output_type": "stream",
          "text": [
            "* * * * * \n",
            "  * * * * \n",
            "    * * * \n",
            "      * * \n",
            "        * \n"
          ]
        }
      ]
    },
    {
      "cell_type": "code",
      "source": [
        "r=5\n",
        "for i in range(r):\n",
        "  for j in range(i+1):\n",
        "    print(\" \",end=\" \")\n",
        "  for k in range(i+1):\n",
        "    print(\"*\",end=\" \")\n",
        "  print()\n",
        "\n",
        "\n",
        "\n"
      ],
      "metadata": {
        "colab": {
          "base_uri": "https://localhost:8080/"
        },
        "id": "BlMhDT2fIFI0",
        "outputId": "98499eef-2dbf-42e8-cd27-ce9904fcb7cb"
      },
      "execution_count": 39,
      "outputs": [
        {
          "output_type": "stream",
          "name": "stdout",
          "text": [
            "  * \n",
            "    * * \n",
            "      * * * \n",
            "        * * * * \n",
            "          * * * * * \n"
          ]
        }
      ]
    },
    {
      "cell_type": "code",
      "source": [
        "n=5\n",
        "for i in range(n):\n",
        "  for j in range(n-i-1):\n",
        "    print(\" \",end=\"\")\n",
        "  for k in range(i+1):\n",
        "    print(\"*\",end=\"\")\n",
        "  print()"
      ],
      "metadata": {
        "colab": {
          "base_uri": "https://localhost:8080/"
        },
        "id": "lCiov428JGmI",
        "outputId": "a6f2002f-9876-41aa-914e-5b6f9410abaf"
      },
      "execution_count": 45,
      "outputs": [
        {
          "output_type": "stream",
          "name": "stdout",
          "text": [
            "    *\n",
            "   **\n",
            "  ***\n",
            " ****\n",
            "*****\n"
          ]
        }
      ]
    },
    {
      "cell_type": "code",
      "source": [
        "r=5\n",
        "for i in range(r):\n",
        "  for j in range(i):\n",
        "    print(\" \",end=\"\")\n",
        "  for k in range((2*r)-(2*i)-1):\n",
        "    print(\"*\",end=\"\")\n",
        "  print()\n"
      ],
      "metadata": {
        "colab": {
          "base_uri": "https://localhost:8080/"
        },
        "id": "joZljRsPJw9d",
        "outputId": "d0c9d921-906e-4a99-813a-05a150ecedde"
      },
      "execution_count": 54,
      "outputs": [
        {
          "output_type": "stream",
          "name": "stdout",
          "text": [
            "*********\n",
            " *******\n",
            "  *****\n",
            "   ***\n",
            "    *\n"
          ]
        }
      ]
    },
    {
      "cell_type": "code",
      "source": [
        "r=5\n",
        "for i in range(r):\n",
        "  for j in range(r-i-1):\n",
        "    print(\" \",end=\"\")\n",
        "  for k in range(2*i+1):\n",
        "    print(\"*\",end=\"\")\n",
        "  print()"
      ],
      "metadata": {
        "colab": {
          "base_uri": "https://localhost:8080/"
        },
        "id": "hiDV_FbUQVGS",
        "outputId": "d32ac9af-261c-4a24-b385-5ea78f23157e"
      },
      "execution_count": 58,
      "outputs": [
        {
          "output_type": "stream",
          "name": "stdout",
          "text": [
            "    *\n",
            "   ***\n",
            "  *****\n",
            " *******\n",
            "*********\n"
          ]
        }
      ]
    },
    {
      "cell_type": "code",
      "source": [
        "n=5\n",
        "for i in range(n):\n",
        "  for j in range(n-i-1):\n",
        "    print(\" \",end=\"\")\n",
        "  for k in range(2*i+1):\n",
        "    print(\"*\",end=\"\")\n",
        "  print()\n",
        "for i in range(r):\n",
        "  for j in range(i):\n",
        "    print(\" \",end=\"\")\n",
        "  for k in range((2*r)-(2*i)-1):\n",
        "    print(\"*\",end=\"\")\n",
        "  print()\n"
      ],
      "metadata": {
        "colab": {
          "base_uri": "https://localhost:8080/"
        },
        "id": "Qzzj2nUoMWaA",
        "outputId": "9cb58e0b-0e0b-4894-e050-ee7bb681c88b"
      },
      "execution_count": 59,
      "outputs": [
        {
          "output_type": "stream",
          "name": "stdout",
          "text": [
            "    *\n",
            "   ***\n",
            "  *****\n",
            " *******\n",
            "*********\n",
            "*********\n",
            " *******\n",
            "  *****\n",
            "   ***\n",
            "    *\n"
          ]
        }
      ]
    },
    {
      "cell_type": "code",
      "source": [
        "r=5\n",
        "for i in range(r):\n",
        "  for j in range(r-i-1):\n",
        "    print(\" \",end=\"\")\n",
        "  for k in range(2*i+1):\n",
        "    print(\"*\",end=\"\")\n",
        "  print()\n",
        "for i in range(r):\n",
        "  for j in range(i+1):\n",
        "    print(\" \",end=\"\")\n",
        "  for k in range((2*(r-1))-(2*i)-1):\n",
        "    print(\"*\",end=\"\")\n",
        "  print()"
      ],
      "metadata": {
        "colab": {
          "base_uri": "https://localhost:8080/"
        },
        "id": "3x21GOEeQM-h",
        "outputId": "2b98767c-d42b-40a7-d1b2-0c980dd8fcf3"
      },
      "execution_count": 66,
      "outputs": [
        {
          "output_type": "stream",
          "name": "stdout",
          "text": [
            "    *\n",
            "   ***\n",
            "  *****\n",
            " *******\n",
            "*********\n",
            " *******\n",
            "  *****\n",
            "   ***\n",
            "    *\n",
            "     \n"
          ]
        }
      ]
    },
    {
      "cell_type": "code",
      "source": [],
      "metadata": {
        "id": "_QOihnYOR4U1"
      },
      "execution_count": null,
      "outputs": []
    }
  ]
}