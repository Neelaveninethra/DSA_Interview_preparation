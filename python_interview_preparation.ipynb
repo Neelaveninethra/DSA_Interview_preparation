{
  "cells": [
    {
      "cell_type": "markdown",
      "metadata": {
        "id": "view-in-github",
        "colab_type": "text"
      },
      "source": [
        "<a href=\"https://colab.research.google.com/github/Neelaveninethra/DSA_Interview_preparation/blob/main/python_interview_preparation.ipynb\" target=\"_parent\"><img src=\"https://colab.research.google.com/assets/colab-badge.svg\" alt=\"Open In Colab\"/></a>"
      ]
    },
    {
      "cell_type": "markdown",
      "metadata": {
        "id": "P6urWe_qsLum"
      },
      "source": [
        "##Problems on numbers##"
      ]
    },
    {
      "cell_type": "markdown",
      "metadata": {
        "id": "ieXdMups4THf"
      },
      "source": [
        "##Palindrome using string method **Bruteforce method**\n",
        "\n",
        "Time and Space Complexity\n",
        "Time Complexity: O(d)\n",
        "\n",
        "d = number of digits in n.\n",
        "\n",
        "Converting to string: O(d)\n",
        "\n",
        "Reversing string: O(d)\n",
        "\n",
        "Comparing strings: O(d)\n",
        "\n",
        "Space Complexity: O(d)\n",
        "\n",
        "Extra space used to store string and reversed string."
      ]
    },
    {
      "cell_type": "code",
      "execution_count": null,
      "metadata": {
        "colab": {
          "base_uri": "https://localhost:8080/"
        },
        "id": "cTBgK8EL4eA_",
        "outputId": "08abcc67-fe39-4506-8ec7-38c9c0e39d7e"
      },
      "outputs": [
        {
          "name": "stdout",
          "output_type": "stream",
          "text": [
            "enter a number:1234\n",
            "4321\n",
            "1234 is not a palindrome\n"
          ]
        }
      ],
      "source": [
        "n=int(input(\"enter a number:\"))\n",
        "s=str(n)\n",
        "reversed_string=s[::-1]\n",
        "print(reversed_string)\n",
        "if(s==reversed_string):\n",
        "  print(n,\"is a palindrome\")\n",
        "else:\n",
        "  print(n,\"is not a palindrome\")\n"
      ]
    },
    {
      "cell_type": "markdown",
      "metadata": {
        "id": "8JgalhDt5uvj"
      },
      "source": [
        "##using function palindrome check\n"
      ]
    },
    {
      "cell_type": "code",
      "execution_count": null,
      "metadata": {
        "colab": {
          "base_uri": "https://localhost:8080/"
        },
        "id": "szGl-pyP50K5",
        "outputId": "c150c021-1178-41ac-d7a7-b242c22d6c52"
      },
      "outputs": [
        {
          "name": "stdout",
          "output_type": "stream",
          "text": [
            "Enter a number: 12321\n",
            "12321 is a palindrome\n"
          ]
        }
      ],
      "source": [
        "def is_palindrome(n):\n",
        "    str_n = str(n)                # Convert number to string\n",
        "    reversed_str = str_n[::-1]    # Reverse the string using slicing\n",
        "    return str_n == reversed_str  # Compare original and reversed strings\n",
        "\n",
        "# Example usage:\n",
        "num = int(input(\"Enter a number: \"))\n",
        "if is_palindrome(num):\n",
        "    print(num, \"is a palindrome\")\n",
        "else:\n",
        "    print(num, \"is not a palindrome\")\n"
      ]
    },
    {
      "cell_type": "markdown",
      "metadata": {
        "id": "FyQDXZ04ssE_"
      },
      "source": [
        "##check if a number is palindrome or not\n",
        "\n",
        "Time Complexity: O(log₁₀n)\n",
        "Because the number of digits in an integer n is approximately log₁₀n.\n",
        "\n",
        "Each digit is processed once.\n",
        "\n",
        "All operations inside the loop are constant time → O(1).\n",
        "\n",
        "✅ Space Complexity: O(1)\n",
        "No extra memory structures like arrays or strings.\n",
        "\n",
        "Just using integers: rev, digit, n, original."
      ]
    },
    {
      "cell_type": "code",
      "execution_count": null,
      "metadata": {
        "colab": {
          "base_uri": "https://localhost:8080/"
        },
        "id": "H5FEDfyao9Ns",
        "outputId": "dd18dc4b-94dc-4f55-8838-3ca084cf30f0"
      },
      "outputs": [
        {
          "name": "stdout",
          "output_type": "stream",
          "text": [
            "enter a number:12345\n",
            "5\n",
            "54\n",
            "543\n",
            "5432\n",
            "54321\n",
            "palindrome of a number: 54321\n",
            "12345 is not a palindrome\n"
          ]
        }
      ],
      "source": [
        "n=eval(input(\"enter a number:\"))\n",
        "original=n\n",
        "rev=0\n",
        "while(n!=0):\n",
        "  digit=n%10\n",
        "  rev=rev*10+digit\n",
        "  n//=10\n",
        "  print(rev)\n",
        "\n",
        "print(\"palindrome of a number:\",rev)\n",
        "\n",
        "if(original==rev):\n",
        "  print(original,\"is a palindrome\")\n",
        "else:\n",
        "  print(original,\"is not a palindrome\")"
      ]
    },
    {
      "cell_type": "markdown",
      "metadata": {
        "id": "si0MUAlj7mxb"
      },
      "source": [
        "##using function\n"
      ]
    },
    {
      "cell_type": "code",
      "execution_count": null,
      "metadata": {
        "colab": {
          "base_uri": "https://localhost:8080/"
        },
        "id": "KLZ92pbXthKj",
        "outputId": "eb824c8c-b254-4c1c-af73-f27fce4a6a56"
      },
      "outputs": [
        {
          "name": "stdout",
          "output_type": "stream",
          "text": [
            "enter a number:1234321\n",
            "1234321 is a palindrome\n"
          ]
        }
      ],
      "source": [
        "def is_palindrome(n):\n",
        "    if n < 0 or (n % 10 == 0 and n != 0):\n",
        "        return False\n",
        "\n",
        "    reversed_half = 0\n",
        "    while n > reversed_half:\n",
        "        digit = n % 10\n",
        "        reversed_half = reversed_half * 10 + digit\n",
        "        n //= 10\n",
        "\n",
        "    return n == reversed_half or n == reversed_half // 10\n",
        "n=int(input(\"enter a number:\"))\n",
        "if is_palindrome(n):\n",
        "    print(n, \"is a palindrome\")\n",
        "else:\n",
        "    print(n, \"is not a palindrome\")"
      ]
    },
    {
      "cell_type": "code",
      "execution_count": null,
      "metadata": {
        "colab": {
          "base_uri": "https://localhost:8080/"
        },
        "id": "hWKIIvB5u3jW",
        "outputId": "476753ed-8318-4e8b-ddb8-3d8e36aa4b04"
      },
      "outputs": [
        {
          "name": "stdout",
          "output_type": "stream",
          "text": [
            "Enter start of range: 10\n",
            "Enter end of range: 30\n",
            "palindrome of a number: 1\n",
            "10 is not a palindrome\n",
            "palindrome of a number: 11\n",
            "11 is a palindrome\n",
            "palindrome of a number: 21\n",
            "12 is not a palindrome\n",
            "palindrome of a number: 31\n",
            "13 is not a palindrome\n",
            "palindrome of a number: 41\n",
            "14 is not a palindrome\n",
            "palindrome of a number: 51\n",
            "15 is not a palindrome\n",
            "palindrome of a number: 61\n",
            "16 is not a palindrome\n",
            "palindrome of a number: 71\n",
            "17 is not a palindrome\n",
            "palindrome of a number: 81\n",
            "18 is not a palindrome\n",
            "palindrome of a number: 91\n",
            "19 is not a palindrome\n",
            "palindrome of a number: 2\n",
            "20 is not a palindrome\n",
            "palindrome of a number: 12\n",
            "21 is not a palindrome\n",
            "palindrome of a number: 22\n",
            "22 is a palindrome\n",
            "palindrome of a number: 32\n",
            "23 is not a palindrome\n",
            "palindrome of a number: 42\n",
            "24 is not a palindrome\n",
            "palindrome of a number: 52\n",
            "25 is not a palindrome\n",
            "palindrome of a number: 62\n",
            "26 is not a palindrome\n",
            "palindrome of a number: 72\n",
            "27 is not a palindrome\n",
            "palindrome of a number: 82\n",
            "28 is not a palindrome\n",
            "palindrome of a number: 92\n",
            "29 is not a palindrome\n",
            "palindrome of a number: 3\n",
            "30 is not a palindrome\n"
          ]
        }
      ],
      "source": [
        "start = int(input(\"Enter start of range: \"))\n",
        "end = int(input(\"Enter end of range: \"))\n",
        "\n",
        "for n in range(start, end + 1):\n",
        "    original = n\n",
        "    rev = 0\n",
        "    while n > 0:\n",
        "      digit = n % 10\n",
        "      rev = rev * 10 + digit\n",
        "      n = n // 10\n",
        "    print(\"palindrome of a number:\",rev)\n",
        "    if(original==rev):\n",
        "      print(original,\"is a palindrome\")\n",
        "    else:\n",
        "      print(original,\"is not a palindrome\")"
      ]
    },
    {
      "cell_type": "code",
      "execution_count": null,
      "metadata": {
        "colab": {
          "base_uri": "https://localhost:8080/"
        },
        "id": "XNObdsoM-iPk",
        "outputId": "59ea4b2d-7c48-459c-81f9-34b1c664bf2b"
      },
      "outputs": [
        {
          "name": "stdout",
          "output_type": "stream",
          "text": [
            "enter a number:131\n",
            "palindrome of a number: 131\n",
            "131 is a palindrome\n",
            "131 is also a prime number\n"
          ]
        }
      ],
      "source": [
        "n=eval(input(\"enter a number:\"))\n",
        "original=n\n",
        "rev=0\n",
        "while(n!=0):\n",
        "  digit=n%10\n",
        "  rev=rev*10+digit\n",
        "  n//=10\n",
        "\n",
        "\n",
        "print(\"palindrome of a number:\",rev)\n",
        "\n",
        "if(original==rev):\n",
        "  print(original,\"is a palindrome\")\n",
        "  if(original>1):\n",
        "    is_prime=True\n",
        "    for i in range(2,int(original**0.5)+1):\n",
        "      if(original%i==0):\n",
        "        is_prime=False\n",
        "        break\n",
        "    if is_prime:\n",
        "      print(original, \"is also a prime number\")\n",
        "    else:\n",
        "      print(original, \"is not a prime number ❌\")\n",
        "  else:\n",
        "        print(original, \"is not a prime number ❌ (less than 2)\")\n",
        "else:\n",
        "    print(original, \"is not a palindrome\")\n"
      ]
    },
    {
      "cell_type": "code",
      "execution_count": null,
      "metadata": {
        "colab": {
          "base_uri": "https://localhost:8080/"
        },
        "id": "mNOxlGTnJkEB",
        "outputId": "39d9e836-e724-4227-b286-3f6d844fc914"
      },
      "outputs": [
        {
          "name": "stdout",
          "output_type": "stream",
          "text": [
            "Enter a number: 131\n",
            "131 is a prime palindrome ✅\n"
          ]
        }
      ],
      "source": [
        "n = int(input(\"Enter a number: \"))\n",
        "original = n\n",
        "rev = 0\n",
        "\n",
        "# Reverse the number\n",
        "while n > 0:\n",
        "    rev = rev * 10 + n % 10\n",
        "    n //= 10\n",
        "\n",
        "# Check for palindrome and prime\n",
        "if original == rev:\n",
        "    if original > 1:\n",
        "        is_prime = True\n",
        "        for i in range(2, int(original ** 0.5) + 1):\n",
        "            if original % i == 0:\n",
        "                is_prime = False\n",
        "                break\n",
        "        if is_prime:\n",
        "            print(original, \"is a prime palindrome \")\n",
        "        else:\n",
        "            print(original, \"is not a prime palindrome \")\n",
        "    else:\n",
        "        print(original, \"is not a prime palindrome \")\n",
        "else:\n",
        "    print(original, \"is not a prime palindrome \")\n"
      ]
    },
    {
      "cell_type": "markdown",
      "metadata": {
        "id": "ifINuGf6HX1G"
      },
      "source": [
        "##Check if a number is prime or not"
      ]
    },
    {
      "cell_type": "code",
      "execution_count": null,
      "metadata": {
        "colab": {
          "base_uri": "https://localhost:8080/"
        },
        "id": "9DJ8odSIDeOp",
        "outputId": "ab733416-bd8b-4153-e72e-7316fcb5243c"
      },
      "outputs": [
        {
          "name": "stdout",
          "output_type": "stream",
          "text": [
            "16\n",
            "16 is not a prime number\n",
            "16 is a prime number\n",
            "16 is not a prime number\n"
          ]
        }
      ],
      "source": [
        "n=int(input())\n",
        "for i in range(2,int(n**0.5)+1):\n",
        "  if(n%i!=0):\n",
        "    print(n,\"is a prime number\")\n",
        "  else:\n",
        "    print(n,\"is not a prime number\")\n",
        "\n"
      ]
    },
    {
      "cell_type": "code",
      "execution_count": null,
      "metadata": {
        "colab": {
          "base_uri": "https://localhost:8080/"
        },
        "id": "NUkSBxPQHyZ-",
        "outputId": "fc5fe238-e76c-4c42-99fb-571c36779bc3"
      },
      "outputs": [
        {
          "name": "stdout",
          "output_type": "stream",
          "text": [
            "Enter a number to check if it's prime: 4\n",
            "4 is not a prime number\n"
          ]
        }
      ],
      "source": [
        "n = int(input(\"Enter a number to check if it's prime: \"))\n",
        "\n",
        "if n <= 1:\n",
        "    print(n, \"is not a prime number\")\n",
        "else:\n",
        "    is_prime = True\n",
        "    for i in range(2, int(n**0.5) + 1):\n",
        "        if n % i == 0:\n",
        "            is_prime = False\n",
        "            break\n",
        "    if is_prime:\n",
        "        print(n, \"is a prime number\")\n",
        "    else:\n",
        "        print(n, \"is not a prime number\")"
      ]
    },
    {
      "cell_type": "code",
      "execution_count": null,
      "metadata": {
        "colab": {
          "base_uri": "https://localhost:8080/"
        },
        "id": "IsU4EcQLJCnK",
        "outputId": "986fca31-fbb3-4c7e-c611-81a3a183bc33"
      },
      "outputs": [
        {
          "name": "stdout",
          "output_type": "stream",
          "text": [
            "Enter a number to check if it's prime: 6\n",
            "6 is not a prime number\n"
          ]
        }
      ],
      "source": [
        "def is_prime(n):\n",
        "    \"\"\"Checks if a number is prime.\"\"\"\n",
        "    if n <= 1:\n",
        "        return False\n",
        "    for i in range(2, int(n**0.5) + 1):\n",
        "        if n % i == 0:\n",
        "            return False\n",
        "    return True\n",
        "\n",
        "# Example usage:\n",
        "num = int(input(\"Enter a number to check if it's prime: \"))\n",
        "if is_prime(num):\n",
        "    print(num, \"is a prime number\")\n",
        "else:\n",
        "    print(num, \"is not a prime number\")"
      ]
    },
    {
      "cell_type": "markdown",
      "metadata": {
        "id": "ZSTaV4QJKXYK"
      },
      "source": [
        "##prime number witjin in a range"
      ]
    },
    {
      "cell_type": "code",
      "execution_count": null,
      "metadata": {
        "colab": {
          "base_uri": "https://localhost:8080/"
        },
        "id": "NHKti7bSKdKE",
        "outputId": "d0bd1b7d-e2ae-4791-8cbb-123a7a932cb0"
      },
      "outputs": [
        {
          "name": "stdout",
          "output_type": "stream",
          "text": [
            "Enter start of range: 20\n",
            "Enter end of range: 30\n",
            "23 29 "
          ]
        }
      ],
      "source": [
        "start = int(input(\"Enter start of range: \"))\n",
        "end = int(input(\"Enter end of range: \"))\n",
        "\n",
        "for num in range(start, end + 1):\n",
        "    if num > 1:\n",
        "        is_prime = True\n",
        "        for i in range(2, int(num ** 0.5) + 1):\n",
        "            if num % i == 0:\n",
        "                is_prime = False\n",
        "                break\n",
        "        if is_prime:\n",
        "            print(num, end=\" \")\n"
      ]
    },
    {
      "cell_type": "code",
      "execution_count": null,
      "metadata": {
        "colab": {
          "base_uri": "https://localhost:8080/"
        },
        "id": "xwAAaW5VKd7Q",
        "outputId": "cd9dba40-20db-41fc-b016-0a8deb077889"
      },
      "outputs": [
        {
          "name": "stdout",
          "output_type": "stream",
          "text": [
            "Enter start of range: 0\n",
            "Enter end of range: 100\n",
            "2 3 5 7 11 13 17 19 23 29 31 37 41 43 47 53 59 61 67 71 73 79 83 89 97 \n",
            "Total prime numbers: 25\n"
          ]
        }
      ],
      "source": [
        "start = int(input(\"Enter start of range: \"))\n",
        "end = int(input(\"Enter end of range: \"))\n",
        "count=0\n",
        "for num in range(start, end + 1):\n",
        "    if num > 1:\n",
        "        is_prime = True\n",
        "        for i in range(2, int(num ** 0.5) + 1):\n",
        "            if num % i == 0:\n",
        "                is_prime = False\n",
        "                break\n",
        "        if is_prime:\n",
        "            print(num, end=\" \")\n",
        "            count+=1\n",
        "print(\"\\nTotal prime numbers:\",count)\n"
      ]
    },
    {
      "cell_type": "markdown",
      "metadata": {
        "id": "JRg9BzDxL8R1"
      },
      "source": [
        "##finding the divisors"
      ]
    },
    {
      "cell_type": "code",
      "execution_count": null,
      "metadata": {
        "colab": {
          "base_uri": "https://localhost:8080/"
        },
        "id": "bVsU_GY3K8gf",
        "outputId": "d55411fe-8c48-4a02-cc8f-c8e8ef3a77ea"
      },
      "outputs": [
        {
          "name": "stdout",
          "output_type": "stream",
          "text": [
            "Enter a number:5\n",
            "[1, 5]\n"
          ]
        }
      ],
      "source": [
        "n=int(input(\"Enter a number:\"))\n",
        "divisors=[]\n",
        "for i in range(1,n+1):\n",
        "  if(n%i==0):\n",
        "    divisors.append(i)\n",
        "print(divisors)"
      ]
    },
    {
      "cell_type": "markdown",
      "metadata": {
        "id": "g2RUQQHbNDY_"
      },
      "source": [
        "##Check if a number is perfect number"
      ]
    },
    {
      "cell_type": "code",
      "execution_count": null,
      "metadata": {
        "colab": {
          "base_uri": "https://localhost:8080/"
        },
        "id": "6yr-3LEXMnj8",
        "outputId": "e57b97ce-dbcc-4e1e-d5c6-83b6f22b0836"
      },
      "outputs": [
        {
          "name": "stdout",
          "output_type": "stream",
          "text": [
            "Enter a number:5\n",
            "1\n",
            "5 is not a perfect number\n"
          ]
        }
      ],
      "source": [
        "n=int(input(\"Enter a number:\"))\n",
        "sum=0\n",
        "for i in range(1,n):\n",
        "  if(n%i==0):\n",
        "    sum=sum+i\n",
        "print(sum)\n",
        "if(sum==n):\n",
        "  print(n,\"is a pefect number\")\n",
        "else:\n",
        "  print(n,\"is not a perfect number\")\n"
      ]
    },
    {
      "cell_type": "code",
      "execution_count": null,
      "metadata": {
        "colab": {
          "base_uri": "https://localhost:8080/"
        },
        "id": "5J_DB5nKNf-o",
        "outputId": "e9556a1b-87a4-497f-ca69-ef04b47c9252"
      },
      "outputs": [
        {
          "name": "stdout",
          "output_type": "stream",
          "text": [
            "Enter a number: 28\n",
            "28 is a perfect number ✅\n"
          ]
        }
      ],
      "source": [
        "n = int(input(\"Enter a number: \"))\n",
        "sum_of_divisors = 0\n",
        "\n",
        "for i in range(1, n):\n",
        "    if n % i == 0:\n",
        "        sum_of_divisors += i\n",
        "\n",
        "if sum_of_divisors == n:\n",
        "    print(n, \"is a perfect number\")\n",
        "else:\n",
        "    print(n, \"is not a perfect number\")\n"
      ]
    },
    {
      "cell_type": "markdown",
      "metadata": {
        "id": "Hc13BFcAEbyL"
      },
      "source": [
        "##Even or odd number checking"
      ]
    },
    {
      "cell_type": "code",
      "execution_count": null,
      "metadata": {
        "colab": {
          "base_uri": "https://localhost:8080/"
        },
        "id": "YmS7ZUeOOUTS",
        "outputId": "152f12a0-1b03-4e05-8bd6-2ea02280e2c5"
      },
      "outputs": [
        {
          "name": "stdout",
          "output_type": "stream",
          "text": [
            "enter a number:7\n",
            "7 is an odd number\n"
          ]
        }
      ],
      "source": [
        "n=int(input(\"enter a number:\"))\n",
        "if n%2==0:\n",
        "  print(n,\"is an even number\")\n",
        "else:\n",
        "  print(n,\"is an odd number\")"
      ]
    },
    {
      "cell_type": "code",
      "execution_count": null,
      "metadata": {
        "colab": {
          "base_uri": "https://localhost:8080/"
        },
        "id": "42B55PDQE-_S",
        "outputId": "41639a71-069f-457a-f9f6-e32f8fc0a7c4"
      },
      "outputs": [
        {
          "name": "stdout",
          "output_type": "stream",
          "text": [
            "enter a number:8\n",
            "even numbers are: 0\n",
            "odd numbers: 1\n",
            "even numbers are: 2\n",
            "odd numbers: 3\n",
            "even numbers are: 4\n",
            "odd numbers: 5\n",
            "even numbers are: 6\n",
            "odd numbers: 7\n",
            "even numbers are: 8\n"
          ]
        }
      ],
      "source": [
        "n=int(input(\"enter a number:\"))\n",
        "for i in range(0,n+1):\n",
        "  if(i%2==0):\n",
        "    print(\"even numbers are:\",i)\n",
        "  else:\n",
        "    print(\"odd numbers:\",i)"
      ]
    },
    {
      "cell_type": "code",
      "execution_count": null,
      "metadata": {
        "colab": {
          "base_uri": "https://localhost:8080/"
        },
        "id": "wxRl3_4gFiDr",
        "outputId": "2308d00c-d1a2-4f67-da4c-65a992822110"
      },
      "outputs": [
        {
          "name": "stdout",
          "output_type": "stream",
          "text": [
            "5\n",
            "The range of list are: [0, 1, 2, 3, 4, 5]\n",
            "The even numbers are: [0, 2, 4]\n"
          ]
        }
      ],
      "source": [
        "a=int(input())\n",
        "b=[]\n",
        "for i in range(0,a+1):\n",
        "  b.append(i)\n",
        "print(\"The range of list are:\",b)\n",
        "c=[]\n",
        "for j in b:\n",
        "  if(j%2==0):\n",
        "    c.append(j)\n",
        "print(\"The even numbers are:\",c)\n"
      ]
    },
    {
      "cell_type": "markdown",
      "metadata": {
        "id": "i3QzwV5ZJa1C"
      },
      "source": [
        "##check weather a given number is positive or negative"
      ]
    },
    {
      "cell_type": "code",
      "execution_count": null,
      "metadata": {
        "colab": {
          "base_uri": "https://localhost:8080/"
        },
        "id": "qrB3N_STHXw_",
        "outputId": "199eca13-9796-4f7b-8a75-e9b99aa2dda0"
      },
      "outputs": [
        {
          "name": "stdout",
          "output_type": "stream",
          "text": [
            "enter a nuber:9\n",
            "9 is a positive number\n"
          ]
        }
      ],
      "source": [
        "n=int(input(\"enter a nuber:\"))\n",
        "if(n<0):\n",
        "  print(n,\"is a negative number\")\n",
        "else:\n",
        "  print(n,\"is a positive number\")"
      ]
    },
    {
      "cell_type": "markdown",
      "metadata": {
        "id": "DLZI2GosKpB6"
      },
      "source": [
        "##sum of first N natural numbers\n",
        "Time Complexity:o(n)\n",
        "space Complexity:o(1)\n",
        "**Brute force**"
      ]
    },
    {
      "cell_type": "code",
      "execution_count": null,
      "metadata": {
        "colab": {
          "base_uri": "https://localhost:8080/"
        },
        "id": "8TsMncZcKDY-",
        "outputId": "45f89200-a329-4b44-832f-d3537888b4a4"
      },
      "outputs": [
        {
          "name": "stdout",
          "output_type": "stream",
          "text": [
            "Enter a range of ending number:5\n",
            "15\n"
          ]
        }
      ],
      "source": [
        "n=int(input(\"Enter a range of ending number:\"))\n",
        "sum=0\n",
        "for i in range(1,n+1):\n",
        "  sum+=i\n",
        "print(sum)\n"
      ]
    },
    {
      "cell_type": "markdown",
      "metadata": {
        "id": "ZzL1P1vVN7aw"
      },
      "source": [
        "**Time complexity:o(1)**\n",
        "\n",
        "**space complexity:o(1)**\n",
        "using formula\n",
        "\n"
      ]
    },
    {
      "cell_type": "code",
      "execution_count": null,
      "metadata": {
        "colab": {
          "base_uri": "https://localhost:8080/"
        },
        "id": "WZS204PJLXm7",
        "outputId": "2ce18aa2-72ae-4479-8e2c-548bb253aabf"
      },
      "outputs": [
        {
          "name": "stdout",
          "output_type": "stream",
          "text": [
            "Enter a number:5\n",
            "sum of N natural numbers: 15\n"
          ]
        }
      ],
      "source": [
        "n=int(input(\"Enter a number:\"))\n",
        "formula=n*(n+1)//2\n",
        "print(\"sum of N natural numbers:\",formula)"
      ]
    },
    {
      "cell_type": "markdown",
      "metadata": {
        "id": "Fx4IxSk5PROb"
      },
      "source": [
        "##using recursion"
      ]
    },
    {
      "cell_type": "code",
      "execution_count": null,
      "metadata": {
        "colab": {
          "base_uri": "https://localhost:8080/"
        },
        "id": "L9Ji1pxzOthZ",
        "outputId": "3b44308c-8997-4947-a2c3-ce15cae0e9b5"
      },
      "outputs": [
        {
          "name": "stdout",
          "output_type": "stream",
          "text": [
            "Enter a number:5\n",
            "The sum of 5 natural numbers: 15\n"
          ]
        }
      ],
      "source": [
        "def sum_recursive(N):\n",
        "    if N == 0:\n",
        "        return 0\n",
        "    return N + sum_recursive(N - 1)\n",
        "N=int(input(\"Enter a number:\"))\n",
        "result=sum_recursive(N)\n",
        "print(\"The sum of\",N,\"natural numbers:\",result)\n"
      ]
    },
    {
      "cell_type": "markdown",
      "metadata": {
        "id": "KH2wWDc1P-ri"
      },
      "source": [
        "##find sum of AP Series **brute force**\n",
        "**Time complexity:o(n)**\n",
        "**Space complexity:o(1)**"
      ]
    },
    {
      "cell_type": "code",
      "execution_count": null,
      "metadata": {
        "colab": {
          "base_uri": "https://localhost:8080/"
        },
        "id": "0bi7Bp4zPxaK",
        "outputId": "31a7e96b-4dcd-4b09-c9d6-4297a1dd3f35"
      },
      "outputs": [
        {
          "name": "stdout",
          "output_type": "stream",
          "text": [
            "Enter the number of terms (n): 5\n",
            "Enter the common difference (d): 3\n",
            "Enter the first term (a): 2\n",
            "The sum of the AP series is: 40\n"
          ]
        }
      ],
      "source": [
        "n=int(input(\"Enter the number of terms (n): \"))\n",
        "d=int(input(\"Enter the common difference (d): \"))\n",
        "a=int(input(\"Enter the first term (a): \"))\n",
        "sum=0\n",
        "for i in range(n):\n",
        "  term = a + i * d\n",
        "  sum+=term\n",
        "print(\"The sum of the AP series is:\", sum)"
      ]
    },
    {
      "cell_type": "markdown",
      "metadata": {
        "id": "NZ-3Ze7HT7si"
      },
      "source": [
        "##  optimized##\n",
        "**Time complexity:o(1)**\n",
        "**Space complexity:o(1)**"
      ]
    },
    {
      "cell_type": "code",
      "execution_count": null,
      "metadata": {
        "colab": {
          "base_uri": "https://localhost:8080/"
        },
        "id": "gKleG5T2SLwR",
        "outputId": "15ab7e88-1cd1-4a8e-b599-f2495c559f55"
      },
      "outputs": [
        {
          "name": "stdout",
          "output_type": "stream",
          "text": [
            "Enter the number of terms (n): 5\n",
            "Enter the common difference (d): 3\n",
            "Enter the first term (a): 2\n",
            "The sum of the AP series is: 40\n"
          ]
        }
      ],
      "source": [
        "n=int(input(\"Enter the number of terms (n): \"))\n",
        "d=int(input(\"Enter the common difference (d): \"))\n",
        "a=int(input(\"Enter the first term (a): \"))\n",
        "sum_ap=n*((2*a)+(n-1)*d)//2\n",
        "print(\"The sum of the AP series is:\", sum_ap)"
      ]
    },
    {
      "cell_type": "markdown",
      "metadata": {
        "id": "flUW7g3tVdYa"
      },
      "source": [
        "##program to find sum of GP series##\n",
        "**Brute force**\n",
        "**Time complexity:o(n)**\n",
        "**Space complexity:o(n)**"
      ]
    },
    {
      "cell_type": "code",
      "execution_count": null,
      "metadata": {
        "colab": {
          "base_uri": "https://localhost:8080/"
        },
        "id": "oW4sG5bjU6Ly",
        "outputId": "e700d1d7-5920-4791-ca73-8c60e69cb1c6"
      },
      "outputs": [
        {
          "name": "stdout",
          "output_type": "stream",
          "text": [
            "Enter the first term (a): 2\n",
            "Enter the number of terms (n): 2\n",
            "Enter the common ratio(r): 3\n",
            "The sum of the AP series is: 8\n"
          ]
        }
      ],
      "source": [
        "a=int(input(\"Enter the first term (a): \"))\n",
        "n=int(input(\"Enter the number of terms (n): \"))\n",
        "r=int(input(\"Enter the common ratio(r): \"))\n",
        "sum=0\n",
        "for i in range(n):\n",
        "  term = a*r**i\n",
        "  sum+=term\n",
        "print(\"The sum of the AP series is:\", sum)"
      ]
    },
    {
      "cell_type": "markdown",
      "metadata": {
        "id": "bFMzRL7vXwd0"
      },
      "source": [
        "##using GP series formula##\n",
        "**Time compplexity:o(1)**\n",
        "**Space complexity:o(1)**"
      ]
    },
    {
      "cell_type": "code",
      "execution_count": null,
      "metadata": {
        "colab": {
          "base_uri": "https://localhost:8080/"
        },
        "id": "YiKPMf9cWH0j",
        "outputId": "d5022cf9-dc36-4232-b660-d5980b6ca7f2"
      },
      "outputs": [
        {
          "name": "stdout",
          "output_type": "stream",
          "text": [
            "Enter the first term (a): 2\n",
            "Enter the common ratio (r): 3\n",
            "Enter the number of terms (n): 2\n",
            "Sum of GP (O(1)) is: 8\n"
          ]
        }
      ],
      "source": [
        "a = int(input(\"Enter the first term (a): \"))\n",
        "r = int(input(\"Enter the common ratio (r): \"))\n",
        "n = int(input(\"Enter the number of terms (n): \"))\n",
        "\n",
        "if r == 1:\n",
        "    sum_gp = a * n\n",
        "else:\n",
        "    sum_gp = a * ((r ** n - 1) // (r - 1))  # Use // if using integers.\n",
        "\n",
        "print(\"Sum of GP (O(1)) is:\", sum_gp)\n"
      ]
    },
    {
      "cell_type": "markdown",
      "metadata": {
        "id": "ise6jPiPoM_z"
      },
      "source": [
        "##Greatest of two numbers"
      ]
    },
    {
      "cell_type": "code",
      "execution_count": null,
      "metadata": {
        "colab": {
          "base_uri": "https://localhost:8080/"
        },
        "id": "n3eao96xYCUC",
        "outputId": "245c8a2a-ba1d-4ddf-f338-8f3056d5cf5c"
      },
      "outputs": [
        {
          "name": "stdout",
          "output_type": "stream",
          "text": [
            "4 5\n",
            "5 is greater than 4\n"
          ]
        }
      ],
      "source": [
        "n,m=list(map(int,input().split()))\n",
        "if(n>m):\n",
        "  print(n,\"is greater than\",m)\n",
        "else:\n",
        "  print(m,\"is greater than\",n)"
      ]
    },
    {
      "cell_type": "markdown",
      "metadata": {
        "id": "bitEfWJPqeeu"
      },
      "source": [
        "##Greatest of three numbers"
      ]
    },
    {
      "cell_type": "code",
      "execution_count": null,
      "metadata": {
        "colab": {
          "base_uri": "https://localhost:8080/"
        },
        "id": "Iqsg0FJYqjUW",
        "outputId": "bb8e5abd-e17a-4a7c-91af-7c0c7957a4f5"
      },
      "outputs": [
        {
          "name": "stdout",
          "output_type": "stream",
          "text": [
            "3  4 5 \n",
            "5 is greater than 3 and 4\n"
          ]
        }
      ],
      "source": [
        "a,b,c=list(map(int,input().split()))\n",
        "if(a>b and a>c):\n",
        "  print(a,\"is greater than\",b,\"and\",c)\n",
        "elif(b>a and b>c):\n",
        "  print(b,\"is greater than\",a,\"and\",c)\n",
        "else:\n",
        "  print(c,\"is greater than\",a,\"and\",b)"
      ]
    },
    {
      "cell_type": "code",
      "execution_count": null,
      "metadata": {
        "colab": {
          "background_save": true
        },
        "id": "c7HYLtmZqz5G"
      },
      "outputs": [],
      "source": [
        "def great(a,b,c):\n",
        "  if(a>b and a>c):\n",
        "    return \"a,\""
      ]
    }
  ],
  "metadata": {
    "colab": {
      "provenance": [],
      "authorship_tag": "ABX9TyOvOhO+XQ0hc9TD7p2Y1U8t",
      "include_colab_link": true
    },
    "kernelspec": {
      "display_name": "Python 3",
      "name": "python3"
    },
    "language_info": {
      "name": "python"
    }
  },
  "nbformat": 4,
  "nbformat_minor": 0
}